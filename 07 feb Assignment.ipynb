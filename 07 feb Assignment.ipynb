{
 "cells": [
  {
   "cell_type": "markdown",
   "id": "56a62e7a-eadd-4e92-bd73-a05ce06e59c2",
   "metadata": {},
   "source": [
    "## ASSIGNMENT"
   ]
  },
  {
   "cell_type": "markdown",
   "id": "eb40573f-57b4-48d9-a768-14d38605d130",
   "metadata": {},
   "source": [
    "Q1. You are writing code for a company. The requirement of the company is that you create a python\n",
    "function that will check whether the password entered by the user is correct or not. The function should\n",
    "take the password as input and return the string “Valid Password” if the entered password follows the\n",
    "below-given password guidelines else it should return “Invalid Password”."
   ]
  },
  {
   "cell_type": "code",
   "execution_count": 30,
   "id": "25fb57b8-72bd-4b3c-b242-f4f354d19c3a",
   "metadata": {},
   "outputs": [],
   "source": [
    "def validate_password(password):\n",
    "    \"\"\"\n",
    "    This function takes a password as input and checks if it meets the given guidelines.\n",
    "    Returns \"Valid Password\" if it meets the guidelines, \"Invalid Password\" otherwise.\n",
    "    \"\"\"\n",
    "    uppercase_count = 0\n",
    "    lowercase_count = 0\n",
    "    number_count = 0\n",
    "    special_char_count = 0\n",
    "    \n",
    "    # Check password length\n",
    "    if len(password) != 10:\n",
    "        return \"Invalid Password: Password should be 10 characters long.\"\n",
    "    \n",
    "    # Count number of uppercase letters, lowercase letters, digits and special characters\n",
    "    for char in password:\n",
    "        if char.isupper():\n",
    "            uppercase_count += 1\n",
    "        elif char.islower():\n",
    "            lowercase_count += 1\n",
    "        elif char.isdigit():\n",
    "            number_count += 1\n",
    "        elif char in ['!', '@', '#', '$', '%', '^', '&', '*']:\n",
    "            special_char_count += 1\n",
    "    \n",
    "    # Check if password meets all guidelines\n",
    "    if uppercase_count >= 2 and lowercase_count >= 2 and number_count >= 1 and special_char_count >= 3:\n",
    "        return \"Valid Password\"\n",
    "    else:\n",
    "        return \"Invalid Password: Password does not meet the guidelines.\"\n"
   ]
  },
  {
   "cell_type": "code",
   "execution_count": 26,
   "id": "34fd8fdc-ca3b-4352-b4fb-bd929bf1d128",
   "metadata": {},
   "outputs": [
    {
     "data": {
      "text/plain": [
       "'Invalid Password: Password should be 10 characters long.'"
      ]
     },
     "execution_count": 26,
     "metadata": {},
     "output_type": "execute_result"
    }
   ],
   "source": [
    " validate_password('Abcd@ef8')"
   ]
  },
  {
   "cell_type": "code",
   "execution_count": 27,
   "id": "a20a9e74-c5b2-4338-92d3-3b36027ac6f2",
   "metadata": {},
   "outputs": [
    {
     "data": {
      "text/plain": [
       "'Valid Password'"
      ]
     },
     "execution_count": 27,
     "metadata": {},
     "output_type": "execute_result"
    }
   ],
   "source": [
    " validate_password('AAc#$@uf8w')"
   ]
  },
  {
   "cell_type": "markdown",
   "id": "8ac55407-ae19-473f-8292-f160548560ba",
   "metadata": {},
   "source": [
    "Q2. Solve the below-given questions using at least one of the following:\n",
    "1. Lambda functioJ\n",
    "2. Filter functioJ\n",
    "3. Map functioJ\n",
    "4. List ComprehensioI\n",
    "- Check if the string starts with a particular letter\n",
    "- Check if the string is numeric\n",
    "- Sort a list of tuples having fruit names and their quantity. [(\"mango\",99),(\"orange\",80), (\"grapes\", 1000)-\n",
    "- Find the squares of numbers from 1 to 10Y\n",
    "- Find the cube root of numbers from 1 to 10Y\n",
    "- Check if a given number is evenY\n",
    "- Filter odd numbers from the given list.\n",
    "[1,2,3,4,5,6,7,8,9,10-\n",
    "- Sort a list of integers into positive and negative integers lists.\n",
    "[1,2,3,4,5,6,-1,-2,-3,-4,-5,0]\n"
   ]
  },
  {
   "cell_type": "markdown",
   "id": "0bf97520-2432-4f84-a2f0-10e670bcff4b",
   "metadata": {},
   "source": [
    "Check if the string starts with a particular letter "
   ]
  },
  {
   "cell_type": "code",
   "execution_count": 40,
   "id": "fc1a7fe0-af72-4b54-b154-dbcf5bb72cc4",
   "metadata": {},
   "outputs": [
    {
     "name": "stdout",
     "output_type": "stream",
     "text": [
      "['apple']\n",
      "['apple']\n"
     ]
    }
   ],
   "source": [
    "string_list = ['apple', 'banana', 'cherry', 'date']\n",
    "letter = 'a'\n",
    "\n",
    "# Using filter() and lambda function\n",
    "result = list(filter(lambda x: x.startswith(letter), string_list))\n",
    "print(result)\n",
    "\n",
    "# Using list comprehension\n",
    "result = [x for x in string_list if x.startswith(letter)]\n",
    "print(result)"
   ]
  },
  {
   "cell_type": "markdown",
   "id": "988e890e-5d07-440c-afc0-05363c1e26d2",
   "metadata": {},
   "source": [
    "Check if the string is numeric"
   ]
  },
  {
   "cell_type": "code",
   "execution_count": 41,
   "id": "b4545ba0-217d-4a58-ae08-14746af96240",
   "metadata": {},
   "outputs": [
    {
     "name": "stdout",
     "output_type": "stream",
     "text": [
      "['123', '7']\n",
      "['123', '7']\n"
     ]
    }
   ],
   "source": [
    "string_list = ['123', 'abc', '4.56', '7']\n",
    "\n",
    "# Using filter() and lambda function\n",
    "result = list(filter(lambda x: x.isnumeric(), string_list))\n",
    "print(result)\n",
    "\n",
    "# Using list comprehension\n",
    "result = [x for x in string_list if x.isnumeric()]\n",
    "print(result)\n"
   ]
  },
  {
   "cell_type": "markdown",
   "id": "44743e50-db2e-4473-970e-3502e7686b09",
   "metadata": {},
   "source": [
    "Sort a list of tuples having fruit names and their quantity. [(\"mango\",99),(\"orange\",80), (\"grapes\", 1000)"
   ]
  },
  {
   "cell_type": "code",
   "execution_count": 44,
   "id": "7e45299c-491d-4221-a643-5707c220c995",
   "metadata": {},
   "outputs": [
    {
     "name": "stdout",
     "output_type": "stream",
     "text": [
      "[('orange', 80), ('mango', 99), ('grapes', 1000)]\n"
     ]
    }
   ],
   "source": [
    "fruit_list = [(\"mango\", 99), (\"orange\", 80), (\"grapes\", 1000)]\n",
    "\n",
    "# Using lambda function as key in sorted() function\n",
    "sorted_list = sorted(fruit_list, key=lambda x: x[1])\n",
    "print(sorted_list)\n"
   ]
  },
  {
   "cell_type": "markdown",
   "id": "cf29ab1c-f259-4f41-accf-27b522af7284",
   "metadata": {},
   "source": [
    "Find the squares of numbers from 1 to 10"
   ]
  },
  {
   "cell_type": "code",
   "execution_count": 45,
   "id": "1ac22413-5fed-4776-abd4-ae04e48a6e11",
   "metadata": {},
   "outputs": [
    {
     "name": "stdout",
     "output_type": "stream",
     "text": [
      "[1, 4, 9, 16, 25, 36, 49, 64, 81, 100]\n",
      "[1, 4, 9, 16, 25, 36, 49, 64, 81, 100]\n"
     ]
    }
   ],
   "source": [
    "# Using lambda function with map() function\n",
    "result = list(map(lambda x: x**2, range(1, 11)))\n",
    "print(result)\n",
    "\n",
    "# Using list comprehension\n",
    "result = [x**2 for x in range(1, 11)]\n",
    "print(result)\n"
   ]
  },
  {
   "cell_type": "markdown",
   "id": "067c9690-0550-472f-a989-97397a8d4d18",
   "metadata": {},
   "source": [
    "Find the cube root of numbers from 1 to 10"
   ]
  },
  {
   "cell_type": "code",
   "execution_count": 46,
   "id": "1737bde7-c197-4872-b300-79c61bc6077a",
   "metadata": {},
   "outputs": [
    {
     "name": "stdout",
     "output_type": "stream",
     "text": [
      "[1.0, 1.2599210498948732, 1.4422495703074083, 1.5874010519681994, 1.7099759466766968, 1.8171205928321397, 1.912931182772389, 2.0, 2.080083823051904, 2.154434690031884]\n",
      "[1.0, 1.2599210498948732, 1.4422495703074083, 1.5874010519681994, 1.7099759466766968, 1.8171205928321397, 1.912931182772389, 2.0, 2.080083823051904, 2.154434690031884]\n"
     ]
    }
   ],
   "source": [
    "\n",
    "# Using lambda function with map() function\n",
    "result = list(map(lambda x: math.pow(x, 1/3), range(1, 11)))\n",
    "print(result)\n",
    "\n",
    "# Using list comprehension\n",
    "result = [math.pow(x, 1/3) for x in range(1, 11)]\n",
    "print(result)"
   ]
  },
  {
   "cell_type": "markdown",
   "id": "2623ec20-7512-47a6-941f-1c7ce9294fda",
   "metadata": {},
   "source": [
    "Check if a given number is even"
   ]
  },
  {
   "cell_type": "code",
   "execution_count": 47,
   "id": "c0178bdc-f07a-4657-89c4-2826b2f91c87",
   "metadata": {},
   "outputs": [
    {
     "name": "stdout",
     "output_type": "stream",
     "text": [
      "6 is even\n",
      "6 is even\n"
     ]
    }
   ],
   "source": [
    "num = 6\n",
    "\n",
    "# Using lambda function with filter() function\n",
    "result = list(filter(lambda x: x % 2 == 0, [num]))\n",
    "if result:\n",
    "    print(num, \"is even\")\n",
    "else:\n",
    "    print(num, \"is odd\")\n",
    "\n",
    "# Using modulo operator\n",
    "if num % 2 == 0:\n",
    "    print(num, \"is even\")\n",
    "else:\n",
    "    print(num, \"is odd\")"
   ]
  },
  {
   "cell_type": "markdown",
   "id": "422ce7e6-5168-44c1-a6f9-a9bdb855dd0c",
   "metadata": {},
   "source": [
    "Filter odd numbers from the given list.\n",
    "[1,2,3,4,5,6,7,8,9,10]"
   ]
  },
  {
   "cell_type": "code",
   "execution_count": 50,
   "id": "426a9204-7174-48e0-833b-fd527271fa14",
   "metadata": {},
   "outputs": [
    {
     "name": "stdout",
     "output_type": "stream",
     "text": [
      "5 is odd\n"
     ]
    }
   ],
   "source": [
    "num = 5\n",
    "\n",
    "# Using lambda function with filter() function\n",
    "result = list(filter(lambda x: x % 2 != 0, [num]))\n",
    "if result:\n",
    "    print(num, \"is odd\")\n",
    "else:\n",
    "    print(num, \"is even\")\n"
   ]
  },
  {
   "cell_type": "markdown",
   "id": "b99bedd8-1090-47cd-8415-f8cd7f8eb480",
   "metadata": {},
   "source": [
    "Sort a list of integers into positive and negative integers lists.\n",
    "[1,2,3,4,5,6,-1,-2,-3,-4,-5,0]\n"
   ]
  },
  {
   "cell_type": "code",
   "execution_count": 65,
   "id": "5c07baca-8685-4101-a44f-1d934969fcc3",
   "metadata": {},
   "outputs": [
    {
     "name": "stdout",
     "output_type": "stream",
     "text": [
      "Positive integers: [1, 2, 3, 4, 5, 6]\n",
      "Negative integers: [-1, -2, -3, -4, -5]\n"
     ]
    }
   ],
   "source": [
    "# Define the list of integers\n",
    "integers = [1, 2, 3, 4, 5, 6, -1, -2, -3, -4, -5, 0]\n",
    "\n",
    "# Use the filter function with a lambda function to get the positive integers\n",
    "positive_integers = list(filter(lambda x: x > 0, integers))\n",
    "\n",
    "# Use the filter function with a lambda function to get the negative integers\n",
    "negative_integers = list(filter(lambda x: x < 0, integers))\n",
    "\n",
    "# Print the positive and negative integers lists\n",
    "print(\"Positive integers:\", positive_integers)\n",
    "print(\"Negative integers:\", negative_integers)\n"
   ]
  },
  {
   "cell_type": "code",
   "execution_count": 66,
   "id": "900e0c66-fb48-4887-9e5e-255e35be225f",
   "metadata": {},
   "outputs": [],
   "source": [
    "lst = [1,2,3,4,5,6,-1,-2,-3,-4,-5,0]\n",
    "\n",
    "positive_lst = [x for x in lst if x > 0]\n",
    "negative_lst = [x for x in lst if x < 0]\n"
   ]
  },
  {
   "cell_type": "code",
   "execution_count": 68,
   "id": "a7fd0fb9-96de-4e21-b073-b33cb71e27cf",
   "metadata": {},
   "outputs": [
    {
     "name": "stdout",
     "output_type": "stream",
     "text": [
      "[1, 2, 3, 4, 5, 6]\n",
      "[-1, -2, -3, -4, -5]\n"
     ]
    }
   ],
   "source": [
    "print(positive_lst)\n",
    "print(negative_lst)"
   ]
  },
  {
   "cell_type": "code",
   "execution_count": null,
   "id": "14e6d984-6017-4cd5-8baa-d69282debbc9",
   "metadata": {},
   "outputs": [],
   "source": []
  }
 ],
 "metadata": {
  "kernelspec": {
   "display_name": "Python 3 (ipykernel)",
   "language": "python",
   "name": "python3"
  },
  "language_info": {
   "codemirror_mode": {
    "name": "ipython",
    "version": 3
   },
   "file_extension": ".py",
   "mimetype": "text/x-python",
   "name": "python",
   "nbconvert_exporter": "python",
   "pygments_lexer": "ipython3",
   "version": "3.10.8"
  }
 },
 "nbformat": 4,
 "nbformat_minor": 5
}
